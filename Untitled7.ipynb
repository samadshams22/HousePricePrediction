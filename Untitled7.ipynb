{
  "nbformat": 4,
  "nbformat_minor": 0,
  "metadata": {
    "colab": {
      "provenance": []
    },
    "kernelspec": {
      "name": "python3",
      "display_name": "Python 3"
    },
    "language_info": {
      "name": "python"
    }
  },
  "cells": [
    {
      "cell_type": "code",
      "execution_count": 3,
      "metadata": {
        "colab": {
          "base_uri": "https://localhost:8080/",
          "height": 1000
        },
        "id": "R_y4AVFtfVmQ",
        "outputId": "f1cbdf13-490c-4ad6-a09b-f5313c758aa8"
      },
      "outputs": [
        {
          "output_type": "stream",
          "name": "stdout",
          "text": [
            "Mounted at /content/drive\n",
            "Null values in each column:\n",
            " id           0\n",
            "NoOfRooms    0\n",
            "Price        2\n",
            "dtype: int64\n",
            "Houses with prices more than $50,000:\n",
            "    id  NoOfRooms    Price\n",
            "3   4          5  60000.0\n",
            "4   5          3  55000.0\n",
            "7   8          5  70000.0\n",
            "Dataset after removing rows with null values in 'Price':\n",
            "    id  NoOfRooms    Price\n",
            "0   1          3  45000.0\n",
            "1   2          4  50000.0\n",
            "2   3          2  30000.0\n",
            "3   4          5  60000.0\n",
            "4   5          3  55000.0\n",
            "6   7          2  25000.0\n",
            "7   8          5  70000.0\n",
            "9  10          4  48000.0\n",
            "Mean Squared Error: 58946280.9917356\n",
            "R-squared: 0.6227438016528921\n",
            "Predicted prices for new houses:\n",
            " [44727.27272727 54636.36363636 64545.45454545]\n",
            "Summary statistics:\n",
            "              id  NoOfRooms         Price\n",
            "count  10.00000  10.000000      8.000000\n",
            "mean    5.50000   3.500000  47875.000000\n",
            "std     3.02765   1.080123  14846.235694\n",
            "min     1.00000   2.000000  25000.000000\n",
            "25%     3.25000   3.000000  41250.000000\n",
            "50%     5.50000   3.500000  49000.000000\n",
            "75%     7.75000   4.000000  56250.000000\n",
            "max    10.00000   5.000000  70000.000000\n",
            "Correlation matrix:\n",
            "                  id  NoOfRooms     Price\n",
            "id         1.000000   0.152894  0.154365\n",
            "NoOfRooms  0.152894   1.000000  0.897655\n",
            "Price      0.154365   0.897655  1.000000\n"
          ]
        },
        {
          "output_type": "display_data",
          "data": {
            "text/plain": [
              "<Figure size 640x480 with 1 Axes>"
            ],
            "image/png": "[encoded data removed]"
          },
          "metadata": {}
        },
        {
          "output_type": "stream",
          "name": "stdout",
          "text": [
            "Mean Squared Error: 0.1403220702017337\n",
            "R-squared: -18.177802768166078\n"
          ]
        }
      ],
      "source": [
        "from google.colab import drive\n",
        "drive.mount('/content/drive')\n",
        "\n",
        "import pandas as pd\n",
        "from sklearn.model_selection import train_test_split\n",
        "from sklearn.linear_model import LinearRegression\n",
        "from sklearn.metrics import mean_squared_error, r2_score\n",
        "import matplotlib.pyplot as plt\n",
        "from sklearn.preprocessing import StandardScaler\n",
        "\n",
        "# Create a sample dataset\n",
        "data = {\n",
        "    'id': [1, 2, 3, 4, 5, 6, 7, 8, 9, 10],\n",
        "    'NoOfRooms': [3, 4, 2, 5, 3, 4, 2, 5, 3, 4],\n",
        "    'Price': [45000, 50000, 30000, 60000, 55000, None, 25000, 70000, None, 48000]\n",
        "}\n",
        "\n",
        "# Convert to DataFrame\n",
        "df = pd.DataFrame(data)\n",
        "\n",
        "# Save to CSV\n",
        "csv_path = '/content/drive/MyDrive/house_price_prediction.csv'\n",
        "df.to_csv(csv_path, index=False)\n",
        "\n",
        "# Load the dataset\n",
        "data = pd.read_csv(csv_path)\n",
        "\n",
        "# 1.1 Check for null values in the dataset and display the count of null values in each column.\n",
        "null_counts = data.isnull().sum()\n",
        "print(\"Null values in each column:\\n\", null_counts)\n",
        "\n",
        "# 1.2 Display the IDs and details of houses whose prices are more than $50,000.\n",
        "houses_above_50k = data[data['Price'] > 50000]\n",
        "print(\"Houses with prices more than $50,000:\\n\", houses_above_50k)\n",
        "\n",
        "# 1.3 Remove the rows with null values in the 'Price' column and display the updated dataset.\n",
        "cleaned_data = data.dropna(subset=['Price'])\n",
        "print(\"Dataset after removing rows with null values in 'Price':\\n\", cleaned_data)\n",
        "\n",
        "# 2.1 Split the dataset into training and testing sets.\n",
        "X = cleaned_data[['NoOfRooms']]\n",
        "y = cleaned_data['Price']\n",
        "X_train, X_test, y_train, y_test = train_test_split(X, y, test_size=0.2, random_state=42)\n",
        "\n",
        "# 2.2 Train a regression model on the training set to predict house prices based on the number of rooms.\n",
        "model = LinearRegression()\n",
        "model.fit(X_train, y_train)\n",
        "\n",
        "# 2.3 Evaluate the performance of the model on the testing set using mean squared error, R-squared.\n",
        "y_pred = model.predict(X_test)\n",
        "mse = mean_squared_error(y_test, y_pred)\n",
        "r2 = r2_score(y_test, y_pred)\n",
        "print(\"Mean Squared Error:\", mse)\n",
        "print(\"R-squared:\", r2)\n",
        "\n",
        "# 2.4 Use the trained model to predict the prices of new houses with a given number of rooms.\n",
        "new_houses = pd.DataFrame({'NoOfRooms': [3, 4, 5]})\n",
        "predicted_prices = model.predict(new_houses)\n",
        "print(\"Predicted prices for new houses:\\n\", predicted_prices)\n",
        "\n",
        "# 3. Analyze a dataset to extract insights and meaningful patterns.\n",
        "summary_stats = data.describe()\n",
        "print(\"Summary statistics:\\n\", summary_stats)\n",
        "correlation_matrix = data.corr()\n",
        "print(\"Correlation matrix:\\n\", correlation_matrix)\n",
        "\n",
        "# 4.1 Data Processing: Clean and preprocess the dataset.\n",
        "processed_data = data.fillna(data.mean())\n",
        "scaler = StandardScaler()\n",
        "processed_data[['NoOfRooms', 'Price']] = scaler.fit_transform(processed_data[['NoOfRooms', 'Price']])\n",
        "\n",
        "# 4.2 Data Analysis: Apply exploratory data analysis techniques.\n",
        "plt.scatter(processed_data['NoOfRooms'], processed_data['Price'])\n",
        "plt.xlabel('Number of Rooms')\n",
        "plt.ylabel('Price')\n",
        "plt.title('Rooms vs Price')\n",
        "plt.show()\n",
        "\n",
        "# 4.3 Machine Learning Algorithm: Train and evaluate a suitable model.\n",
        "X = processed_data[['NoOfRooms']]\n",
        "y = processed_data['Price']\n",
        "X_train, X_test, y_train, y_test = train_test_split(X, y, test_size=0.2, random_state=42)\n",
        "model = LinearRegression()\n",
        "model.fit(X_train, y_train)\n",
        "y_pred = model.predict(X_test)\n",
        "mse = mean_squared_error(y_test, y_pred)\n",
        "r2 = r2_score(y_test, y_pred)\n",
        "print(\"Mean Squared Error:\", mse)\n",
        "print(\"R-squared:\", r2)\n"
      ]
    }
  ]
}